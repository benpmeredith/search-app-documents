{
 "cells": [
  {
   "cell_type": "markdown",
   "metadata": {},
   "source": [
    "### Parse documents"
   ]
  },
  {
   "cell_type": "code",
   "execution_count": 1,
   "metadata": {
    "collapsed": false
   },
   "outputs": [],
   "source": [
    "import parse_documents as parse\n",
    "import random\n",
    "from collections import defaultdict"
   ]
  },
  {
   "cell_type": "code",
   "execution_count": 2,
   "metadata": {
    "collapsed": false
   },
   "outputs": [
    {
     "name": "stdout",
     "output_type": "stream",
     "text": [
      "File: doc12.txt\n",
      "ValueError('Document has too few sections: 2',)\n",
      "Read 94 files from directory documents\n"
     ]
    }
   ],
   "source": [
    "docs_clean = parse.parse_files(\"documents\")"
   ]
  },
  {
   "cell_type": "markdown",
   "metadata": {},
   "source": [
    "### Sample tags"
   ]
  },
  {
   "cell_type": "code",
   "execution_count": 3,
   "metadata": {
    "collapsed": false
   },
   "outputs": [],
   "source": [
    "def print_tags(i):\n",
    "    print '{}: {}'.format(i, docs_clean.items()[i][0])\n",
    "    print docs_clean.items()[i][1]['violence_tags']\n",
    "    print docs_clean.items()[i][1]['search_tags']"
   ]
  },
  {
   "cell_type": "code",
   "execution_count": 4,
   "metadata": {
    "collapsed": false,
    "scrolled": true
   },
   "outputs": [
    {
     "name": "stdout",
     "output_type": "stream",
     "text": [
      "83: doc9.txt\n",
      "['making threats', 'intimidation', 'ostracizing', 'cyber bullying']\n",
      "['has inappropriate access to, possession of, and/or use of firearms', 'mood swings', 'using drugs', 'risk taking', 'change in choice of clothing', 'leather coat']\n"
     ]
    }
   ],
   "source": [
    "print_tags(random.randrange(0, len(docs_clean)))"
   ]
  },
  {
   "cell_type": "markdown",
   "metadata": {},
   "source": [
    "### Get unique violence tags"
   ]
  },
  {
   "cell_type": "code",
   "execution_count": 5,
   "metadata": {
    "collapsed": false
   },
   "outputs": [
    {
     "name": "stdout",
     "output_type": "stream",
     "text": [
      "Found 12 unique violence tags\n"
     ]
    }
   ],
   "source": [
    "violence_tags = defaultdict(int)\n",
    "for key, value in docs_clean.iteritems():\n",
    "    v_tags = value['violence_tags']\n",
    "    for v_tag in v_tags:\n",
    "        violence_tags[v_tag] += 1\n",
    "        if v_tag == 'risk taking':\n",
    "            print key\n",
    "            \n",
    "print 'Found {} unique violence tags'.format(len(violence_tags))"
   ]
  },
  {
   "cell_type": "code",
   "execution_count": 6,
   "metadata": {
    "collapsed": false
   },
   "outputs": [
    {
     "data": {
      "text/plain": [
       "defaultdict(int,\n",
       "            {'cyber bullying': 25,\n",
       "             'drug use': 27,\n",
       "             'fighting': 29,\n",
       "             'gang activities': 29,\n",
       "             'intimidation': 34,\n",
       "             'making threats': 42,\n",
       "             'ostracizing': 25,\n",
       "             'sexual harassment': 26,\n",
       "             'stealing': 28,\n",
       "             'vandalism': 25,\n",
       "             'verbal bullying': 20,\n",
       "             'weapons use': 40})"
      ]
     },
     "execution_count": 6,
     "metadata": {},
     "output_type": "execute_result"
    }
   ],
   "source": [
    "violence_tags"
   ]
  },
  {
   "cell_type": "markdown",
   "metadata": {},
   "source": [
    "### Get unique search tags"
   ]
  },
  {
   "cell_type": "code",
   "execution_count": 7,
   "metadata": {
    "collapsed": false
   },
   "outputs": [
    {
     "name": "stdout",
     "output_type": "stream",
     "text": [
      "Found 51 unique violence tags\n"
     ]
    }
   ],
   "source": [
    "search_tags = defaultdict(int)\n",
    "for key, value in docs_clean.iteritems():\n",
    "    v_tags = value['search_tags']\n",
    "    for v_tag in v_tags:\n",
    "        search_tags[v_tag] += 1\n",
    "        if 'reacts to disappointments' == v_tag :\n",
    "            print key\n",
    "            \n",
    "print 'Found {} unique violence tags'.format(len(search_tags))"
   ]
  },
  {
   "cell_type": "code",
   "execution_count": 8,
   "metadata": {
    "collapsed": false
   },
   "outputs": [
    {
     "data": {
      "text/plain": [
       "defaultdict(int,\n",
       "            {'a victim of violence and/or abuse': 10,\n",
       "             'break up with girlfriend': 17,\n",
       "             'bullied': 17,\n",
       "             'change in choice of clothing': 9,\n",
       "             'comments or writings that suggest a desire to harm himself or others': 9,\n",
       "             'consistently does not listen to adults': 24,\n",
       "             'cruel or violent toward pets or other animals': 19,\n",
       "             'disrupts classroom activities': 20,\n",
       "             'does poorly in school': 23,\n",
       "             'easily frustrated': 14,\n",
       "             'excessive fear, worrying, or crying': 17,\n",
       "             'excessive worry about weight gain': 13,\n",
       "             'expresses violence in writings and/or drawings': 11,\n",
       "             'failing school': 16,\n",
       "             'family income under $30,000': 19,\n",
       "             'fighting, drug use,': 1,\n",
       "             'frequently gets into fights with other children at school (uncontrollable anger,': 25,\n",
       "             'grades falling': 15,\n",
       "             'gun owner family': 19,\n",
       "             'has a history of violent and aggressive behavior': 15,\n",
       "             'has feelings of being picked on or persecuted': 10,\n",
       "             'has few friends and is often rejected by other children because of his or her behavior': 23,\n",
       "             'has few friends and is often rejected by other children because of his or her behavior makes friends with other children known to be unruly or aggressive': 1,\n",
       "             'has few friends and is often rejected by other children because of his or her behavior mood swings': 1,\n",
       "             'has inappropriate access to, possession of, and/or use of firearms': 11,\n",
       "             'impulsive and chronic hitting, intimidating and bullying behavior)': 25,\n",
       "             'leather coat': 11,\n",
       "             'loss of appetite': 17,\n",
       "             'makes friends with other children known to be unruly or aggressive': 22,\n",
       "             'makes serious threats of violence (detailed and direct)': 11,\n",
       "             'makes suicidal comments or attempts': 12,\n",
       "             'military clothes': 11,\n",
       "             'mood swings': 6,\n",
       "             'not sensitive to the feelings of others': 23,\n",
       "             'persistent nightmares': 9,\n",
       "             'reacts to disappointments, criticism, or teasing with extreme and intense anger, blame, or revenge': 25,\n",
       "             'risk taking': 8,\n",
       "             'seeing or hearing things that are not there': 9,\n",
       "             'self harm behaviors (cutting, scratching, burning, hitting, etc )': 9,\n",
       "             'shows intolerance for differences and prejudicial attitudes': 7,\n",
       "             'single parent family': 18,\n",
       "             'socially withdrawn': 16,\n",
       "             'substance use or abuse': 11,\n",
       "             'sudden changes in sleep habits': 14,\n",
       "             'sudden changes in weight': 14,\n",
       "             'thinks others are plotting against him': 9,\n",
       "             'trouble paying attention and concentrating': 15,\n",
       "             'trouble sleeping': 9,\n",
       "             'using drugs': 11,\n",
       "             'visible prolonged sadness': 14,\n",
       "             'watches many violent television shows and movies or plays a lot of violent games': 22})"
      ]
     },
     "execution_count": 8,
     "metadata": {},
     "output_type": "execute_result"
    }
   ],
   "source": [
    "search_tags"
   ]
  }
 ],
 "metadata": {
  "anaconda-cloud": {},
  "kernelspec": {
   "display_name": "Python [default]",
   "language": "python",
   "name": "python2"
  },
  "language_info": {
   "codemirror_mode": {
    "name": "ipython",
    "version": 2
   },
   "file_extension": ".py",
   "mimetype": "text/x-python",
   "name": "python",
   "nbconvert_exporter": "python",
   "pygments_lexer": "ipython2",
   "version": "2.7.12"
  }
 },
 "nbformat": 4,
 "nbformat_minor": 1
}
